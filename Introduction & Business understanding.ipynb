{
 "cells": [
  {
   "cell_type": "markdown",
   "metadata": {},
   "source": [
    "# Introduction and Business Understanding"
   ]
  },
  {
   "cell_type": "markdown",
   "metadata": {},
   "source": [
    "Car accidents contribute to a major chunk of deaths all over the world.This is true across developed and developing countries. In an effort to reduce the frequency of car collisions in a community , an algorithim must be developed to predict the severity of an accident given the current weather, road and visibility conditions. When conditions are bad, this model will alert drivers to remind them to be more careful.\n",
    "This algorithm can guide the drivers whwether to make the journey or avoid it for the time being. This can significantly reduce the number of road accidents and can save millions of tax dollars for governments in Emergency care and medical expenses. \n",
    "The data presented here is of Seattle, United states having various factors that can contribute to car collisions. A ML model can be developed to send the emrgency warnings to drivers in real time and suggest them to make the trip or not."
   ]
  },
  {
   "cell_type": "markdown",
   "metadata": {},
   "source": [
    "### Stakeholders"
   ]
  },
  {
   "cell_type": "markdown",
   "metadata": {},
   "source": [
    "Car drivers\n",
    "\n",
    "Government and road safety department\n",
    "\n",
    "Car insurance and Medical Insurance companies"
   ]
  },
  {
   "cell_type": "markdown",
   "metadata": {},
   "source": [
    "# Data Understanding"
   ]
  },
  {
   "cell_type": "markdown",
   "metadata": {},
   "source": [
    "Our predictor or target variable will be 'SEVERITYCODE' because it is used measure the severity of an accident from 0 to 5 within the dataset. Attributes used to weigh the severity of an accident are 'WEATHER', 'ROADCOND' and 'LIGHTCOND'.\n",
    "\n",
    "Severity codes are as follows:\n",
    "\n",
    "0 : Little to no Probability (Clear Conditions)\n",
    "\n",
    "\n",
    "1 : Very Low Probablility - Chance or Property Damage\n",
    "\n",
    "2 : Low Probability - Chance of Injury\n",
    "\n",
    "3 : Mild Probability - Chance of Serious Injury\n",
    "\n",
    "4 : High Probability - Chance of Fatality"
   ]
  }
 ],
 "metadata": {
  "kernelspec": {
   "display_name": "Python",
   "language": "python",
   "name": "conda-env-python-py"
  },
  "language_info": {
   "codemirror_mode": {
    "name": "ipython",
    "version": 3
   },
   "file_extension": ".py",
   "mimetype": "text/x-python",
   "name": "python",
   "nbconvert_exporter": "python",
   "pygments_lexer": "ipython3",
   "version": "3.6.11"
  }
 },
 "nbformat": 4,
 "nbformat_minor": 4
}
